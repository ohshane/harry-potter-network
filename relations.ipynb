{
 "cells": [
  {
   "cell_type": "code",
   "execution_count": 1,
   "metadata": {},
   "outputs": [],
   "source": [
    "# https://github.com/efekarakus/potter-network"
   ]
  },
  {
   "cell_type": "code",
   "execution_count": 2,
   "metadata": {},
   "outputs": [
    {
     "name": "stdout",
     "output_type": "stream",
     "text": [
      "/home/shane/workspace/sna/potter\n",
      "/home/shane/workspace/sna/potter/data/relations\n"
     ]
    }
   ],
   "source": [
    "from pathlib import Path\n",
    "from collections import Counter\n",
    "import numpy as np\n",
    "import os\n",
    "import csv\n",
    "\n",
    "root_dir = Path(os.path.abspath('__file__')).parent\n",
    "dataset_dir = root_dir / 'data' / 'relations'\n",
    "characters_dir = dataset_dir / 'characters.csv'\n",
    "relations_dir = dataset_dir / 'relations.csv'\n",
    "\n",
    "print(root_dir)\n",
    "print(dataset_dir)"
   ]
  },
  {
   "cell_type": "code",
   "execution_count": 3,
   "metadata": {},
   "outputs": [],
   "source": [
    "with open(characters_dir, newline='') as f:\n",
    "    f = csv.reader(f)\n",
    "    characters = list(f)[1:]\n",
    "    \n",
    "with open(relations_dir, newline='') as f:\n",
    "    f = csv.reader(f)\n",
    "    relations = list(f)[1:]"
   ]
  },
  {
   "cell_type": "code",
   "execution_count": 4,
   "metadata": {},
   "outputs": [],
   "source": [
    "# *Vertices 4\n",
    "# 1 \"George\"\n",
    "# 2 \"Susan\"\n",
    "# 3 \"John\"\n",
    "# 4 \"Sarah\"\n",
    "# *Edges\n",
    "# 1 2 1\n",
    "# 2 3 1\n",
    "# 3 4 1\n",
    "\n",
    "with open(root_dir/'potter.net', 'w') as f:\n",
    "    f.write(f\"*Vertices\\t{len(characters)}\\n\")\n",
    "    for i, name, _ in characters:\n",
    "        f.write(f\"{int(i)+1}\\t\\\"{name}\\\"\\n\")\n",
    "    f.write(f\"*Edges\\n\")\n",
    "    for u, v, w in relations:\n",
    "        f.write(f\"{int(u)+1}\\t{int(v)+1}\\t{1 if w == '+' else -1}\\n\")"
   ]
  }
 ],
 "metadata": {
  "interpreter": {
   "hash": "d1c7ddf6bb70615f2a858b187d3630d31071650494c3b4ed8e6e2e8f304fbb71"
  },
  "kernelspec": {
   "display_name": "Python 3.8.8 64-bit ('anaconda3-2021.05': pyenv)",
   "language": "python",
   "name": "python3"
  },
  "language_info": {
   "codemirror_mode": {
    "name": "ipython",
    "version": 3
   },
   "file_extension": ".py",
   "mimetype": "text/x-python",
   "name": "python",
   "nbconvert_exporter": "python",
   "pygments_lexer": "ipython3",
   "version": "3.8.8"
  },
  "orig_nbformat": 4
 },
 "nbformat": 4,
 "nbformat_minor": 2
}
