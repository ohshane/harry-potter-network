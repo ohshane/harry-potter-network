{
 "cells": [
  {
   "cell_type": "code",
   "execution_count": 26,
   "metadata": {},
   "outputs": [],
   "source": [
    "# https://www.kaggle.com/gulsahdemiryurek/harry-potter-dataset"
   ]
  },
  {
   "cell_type": "code",
   "execution_count": 27,
   "metadata": {},
   "outputs": [
    {
     "name": "stdout",
     "output_type": "stream",
     "text": [
      "/home/shane/workspace/sna/potter\n",
      "/home/shane/workspace/sna/potter/data/book\n"
     ]
    },
    {
     "name": "stderr",
     "output_type": "stream",
     "text": [
      "[nltk_data] Downloading package brown to /home/shane/nltk_data...\n",
      "[nltk_data]   Package brown is already up-to-date!\n",
      "[nltk_data] Downloading package punkt to /home/shane/nltk_data...\n",
      "[nltk_data]   Package punkt is already up-to-date!\n"
     ]
    }
   ],
   "source": [
    "from pathlib import Path\n",
    "from collections import Counter\n",
    "from textblob import TextBlob\n",
    "import nltk\n",
    "import os\n",
    "\n",
    "nltk.download('brown')\n",
    "nltk.download('punkt')\n",
    "\n",
    "root_dir = Path(os.path.abspath('__file__')).parent\n",
    "dataset_dir = root_dir / 'data' / 'book'\n",
    "book1_dir = dataset_dir / 'Harry Potter 1.csv'\n",
    "book2_dir = dataset_dir / 'Harry Potter 2.csv'\n",
    "book3_dir = dataset_dir / 'Harry Potter 3.csv'\n",
    "\n",
    "print(root_dir)\n",
    "print(dataset_dir)"
   ]
  },
  {
   "cell_type": "code",
   "execution_count": 28,
   "metadata": {},
   "outputs": [],
   "source": [
    "from nltk.sentiment.vader import SentimentIntensityAnalyzer\n",
    "\n",
    "analyser = SentimentIntensityAnalyzer()\n",
    "\n",
    "with open(book3_dir, 'r') as f:\n",
    "    book = list(f.readlines())[1:]\n",
    "    book = list(map(lambda x: x.split(';'), book))\n",
    "    book = [list(map(lambda x: x.strip(), x)) for x in book]"
   ]
  },
  {
   "cell_type": "code",
   "execution_count": 29,
   "metadata": {},
   "outputs": [
    {
     "name": "stdout",
     "output_type": "stream",
     "text": [
      "Total characters\n",
      "50\n",
      "\n",
      "Total nouns\n",
      "567\n"
     ]
    }
   ],
   "source": [
    "characters = []\n",
    "nouns = []\n",
    "character_nouns = {}\n",
    "\n",
    "for character, sentence in book:\n",
    "    characters.append(character.title())\n",
    "    blob = TextBlob(sentence)\n",
    "    n = blob.noun_phrases\n",
    "    n = list(map(lambda x: x.lower(), n))\n",
    "    nouns.extend(n)\n",
    "\n",
    "    if character.title() in character_nouns:\n",
    "        character_nouns[character.title()].extend(n)\n",
    "    else:\n",
    "        character_nouns[character.title()] = list(n)\n",
    "\n",
    "characters = list(dict(sorted(dict(Counter(characters)).items(), key=lambda x: x[1], reverse=True)).keys())\n",
    "nouns = list(dict(sorted(dict(Counter(nouns)).items(), key=lambda x: x[1], reverse=True)).keys())\n",
    "\n",
    "print(\"Total characters\")\n",
    "print(len(characters))\n",
    "print()\n",
    "\n",
    "print(\"Total nouns\")\n",
    "print(len(nouns))\n",
    "\n",
    "character_register = dict(zip(characters, range(1, len(characters)+1)))\n",
    "noun_register = dict(zip(nouns, range(len(characters)+1, len(characters)+len(nouns)+1)))\n",
    "\n",
    "for k in character_nouns:\n",
    "    character_nouns[k] = dict(sorted(dict(Counter(character_nouns[k])).items(), key=lambda x: x[1], reverse=True))"
   ]
  },
  {
   "cell_type": "code",
   "execution_count": 30,
   "metadata": {},
   "outputs": [],
   "source": [
    "with open('book3_character_noun_bipartite.net', 'w') as f:\n",
    "    f.write(f\"*Vertices\\t{list(noun_register.values())[-1]}\\t{list(character_register.values())[-1]}\\n\")\n",
    "    for name, i in character_register.items():\n",
    "        f.write(f\"{i}\\t\\\"{name}\\\"\\n\")\n",
    "    for noun, i in noun_register.items():\n",
    "        f.write(f\"{i}\\t\\\"{noun}\\\"\\n\")\n",
    "    f.write(f\"*Edges\\n\")\n",
    "    for character, d in character_nouns.items():\n",
    "        for k, v in d.items():\n",
    "            f.write(f\"{character_register[character]}\\t{noun_register[k]}\\t{v}\\n\")"
   ]
  }
 ],
 "metadata": {
  "interpreter": {
   "hash": "d1c7ddf6bb70615f2a858b187d3630d31071650494c3b4ed8e6e2e8f304fbb71"
  },
  "kernelspec": {
   "display_name": "Python 3.8.8 64-bit ('anaconda3-2021.05': pyenv)",
   "language": "python",
   "name": "python3"
  },
  "language_info": {
   "codemirror_mode": {
    "name": "ipython",
    "version": 3
   },
   "file_extension": ".py",
   "mimetype": "text/x-python",
   "name": "python",
   "nbconvert_exporter": "python",
   "pygments_lexer": "ipython3",
   "version": "3.8.8"
  },
  "orig_nbformat": 4
 },
 "nbformat": 4,
 "nbformat_minor": 2
}
