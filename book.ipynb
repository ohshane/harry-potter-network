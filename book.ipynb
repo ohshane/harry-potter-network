{
 "cells": [
  {
   "cell_type": "code",
   "execution_count": 21,
   "metadata": {},
   "outputs": [],
   "source": [
    "# https://www.kaggle.com/gulsahdemiryurek/harry-potter-dataset"
   ]
  },
  {
   "cell_type": "code",
   "execution_count": 22,
   "metadata": {},
   "outputs": [
    {
     "name": "stdout",
     "output_type": "stream",
     "text": [
      "/home/shane/workspace/sna/potter\n",
      "/home/shane/workspace/sna/potter/data/book\n"
     ]
    },
    {
     "name": "stderr",
     "output_type": "stream",
     "text": [
      "[nltk_data] Downloading package vader_lexicon to\n",
      "[nltk_data]     /home/shane/nltk_data...\n",
      "[nltk_data]   Package vader_lexicon is already up-to-date!\n"
     ]
    }
   ],
   "source": [
    "from pathlib import Path\n",
    "from collections import Counter\n",
    "import numpy as np\n",
    "import nltk\n",
    "import os\n",
    "import csv\n",
    "\n",
    "nltk.download('vader_lexicon')\n",
    "\n",
    "root_dir = Path(os.path.abspath('__file__')).parent\n",
    "dataset_dir = root_dir / 'data' / 'book'\n",
    "book1_dir = dataset_dir / 'Harry Potter 1.csv'\n",
    "book2_dir = dataset_dir / 'Harry Potter 2.csv'\n",
    "book3_dir = dataset_dir / 'Harry Potter 3.csv'\n",
    "\n",
    "print(root_dir)\n",
    "print(dataset_dir)"
   ]
  },
  {
   "cell_type": "code",
   "execution_count": 23,
   "metadata": {},
   "outputs": [],
   "source": [
    "from nltk.sentiment.vader import SentimentIntensityAnalyzer\n",
    "\n",
    "analyser = SentimentIntensityAnalyzer()\n",
    "\n",
    "with open(book3_dir, 'r') as f:\n",
    "    book = list(f.readlines())[1:]\n",
    "    book = list(map(lambda x: x.split(';'), book))\n",
    "    book = [list(map(lambda x: x.strip(), x)) for x in book]\n",
    "\n",
    "characters = []\n",
    "\n",
    "edges = []\n",
    "prev_character = \"\"\n",
    "score_sum = 0\n",
    "for character, sentence in book:\n",
    "    characters.append(character.title())\n",
    "    if prev_character != character:\n",
    "        if prev_character:\n",
    "            edges.append([f\"{prev_character.title()}__{character.title()}\", score_sum])\n",
    "        prev_character = character\n",
    "        score_sum = 0\n",
    "    score_sum += 1 + abs(analyser.polarity_scores(sentence)['compound'])\n",
    "\n",
    "edges_dict = {}\n",
    "for k, v in edges:\n",
    "    if k in edges_dict:\n",
    "        edges_dict[k] += v\n",
    "    else:\n",
    "        edges_dict[k] = v\n",
    "\n",
    "character_dict = dict(zip(dict(sorted(dict(Counter(characters)).items(), key=lambda x: x[1], reverse=True)).keys(), list(range(1, len(characters)+1))))"
   ]
  },
  {
   "cell_type": "code",
   "execution_count": 24,
   "metadata": {},
   "outputs": [],
   "source": [
    "import math\n",
    "\n",
    "# *Vertices 4\n",
    "# 1 \"George\"\n",
    "# 2 \"Susan\"\n",
    "# 3 \"John\"\n",
    "# 4 \"Sarah\"\n",
    "# *Edges\n",
    "# 1 2 1\n",
    "# 2 3 1\n",
    "# 3 4 1\n",
    "\n",
    "with open(root_dir/'book3_logscale.net', 'w') as f:\n",
    "    f.write(f\"*Vertices\\t{len(character_dict)}\\n\")\n",
    "    for name, i in list(character_dict.items()):\n",
    "        f.write(f\"{i}\\t\\\"{name}\\\"\\n\")\n",
    "    f.write(f\"*Edges\\n\")\n",
    "    for from_to, score in list(sorted(edges_dict.items(), key=lambda x: x[1], reverse=True)):\n",
    "        from_character, to_character =  from_to.split('__')\n",
    "        f.write(f\"{character_dict[from_character]}\\t{character_dict[to_character]}\\t{math.log2(score + 1)}\\n\")"
   ]
  }
 ],
 "metadata": {
  "interpreter": {
   "hash": "d1c7ddf6bb70615f2a858b187d3630d31071650494c3b4ed8e6e2e8f304fbb71"
  },
  "kernelspec": {
   "display_name": "Python 3.8.8 64-bit ('anaconda3-2021.05': pyenv)",
   "language": "python",
   "name": "python3"
  },
  "language_info": {
   "codemirror_mode": {
    "name": "ipython",
    "version": 3
   },
   "file_extension": ".py",
   "mimetype": "text/x-python",
   "name": "python",
   "nbconvert_exporter": "python",
   "pygments_lexer": "ipython3",
   "version": "3.8.8"
  },
  "orig_nbformat": 4
 },
 "nbformat": 4,
 "nbformat_minor": 2
}
